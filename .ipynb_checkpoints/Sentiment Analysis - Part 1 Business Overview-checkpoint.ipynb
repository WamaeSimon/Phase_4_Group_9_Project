{
 "cells": [
  {
   "cell_type": "markdown",
   "metadata": {},
   "source": [
    "# Build a model to analyze sentiment in tweets about Apple and Google products"
   ]
  },
  {
   "cell_type": "markdown",
   "metadata": {},
   "source": [
    "##  OVERVIEW AND DATA UNDERSTANDING \n",
    "#### **Business Understanding**\n",
    "\n",
    "##### **What is  sentiment analysis?**\n",
    "\n",
    "**Sentiment Analysis** also known as **Sentiment Classification** in brief uses natural language processing to identify the emotional tone behind text, such as customer feedback, and categorize it as positive, negative, or neutral. \n",
    "\n",
    "The above can also be described as a text classification tasks, where we look at a phrase, or a list of phrases and use a classifier to tell if the sentiment behind that is:\n",
    "\n",
    "- positive\n",
    "- negative \n",
    "- neutral. \n",
    "\n",
    "In some cases, the third attribute is not taken to keep it a binary classification problem. \n",
    "\n",
    "In this project we will thus carry out a sentiment classification task where we will analyzes tweets, their emotions, and whether they are directed at a brand or product i.e Apple and Google products\n",
    "\n",
    "\n",
    "\n",
    "##### **How is sentiment analysis important to an organization?**\n",
    "\n",
    "For your organization, sentiment analysis is crucial in the following ways:\n",
    "\n",
    "- Understanding customer opinions for improving experiences, and addressing concerns proactively. \n",
    "- It helps to predict customer behavior for a particular product\n",
    "- It can help to test the adaptability of a product\n",
    "- Automates the task of customer preference reports.\n",
    "\n",
    "The above are but a few benefits, but in general sentiment analysis assit business stake holders to also define various business problems regarding their products\n",
    "\n",
    "\n",
    "##### **An Overview of Apple Products**\n",
    "Apple is one of the most recognized brands in the world valued at over $2 trillion in 2021.  \n",
    "\n",
    "It is known for its innovative consumer electronics, including the iPhone, iPad, MacBook, and other devices.\n",
    "\n",
    "Apple’s next products, which may include a virtual reality headset and self-driving car. The past few product launches have been smaller in scope, like the HomePod and AirPod, and Apple fans are clamouring for the next iPhone.  \n",
    "\n",
    "Given their wide range of products some mentioned above , below we have some statistics on their performance in 2023 as at September: \n",
    "\n",
    "- 231 million iPhones, 49 million iPads and 22 million Mac and MacBook units were sold in 2023\n",
    "- Apple’s home and wearables division declined by 6.5% in 2023\n",
    "- It sold 75 million AirPods and 38 million Apple Watches in 2023\n",
    "- Apple Music has 93 million subscribers, Apple TV+ has 47 million\n",
    "\n",
    "\n",
    "To be able to consistently get high revenues, Apple needs to continuously carry out sentiment analysis on the users' strong emotional reactions to the brand , which frequently result in a mix of positive and negative sentiments in their data. \n",
    "\n",
    "Tweets being a source of helpful data , looking at Tweets on Apple products could, among other things, cover customer service experiences, software upgrades, or the introduction of new items. \n",
    "\n",
    "\n",
    "##### **An Overview of Google Products**\n",
    "\n",
    "Google offers diverse products designed to enhance productivity, connectivity, and innovation.\n",
    "\n",
    "Key offerings include:\n",
    "\n",
    "- Google Search\n",
    "- Gmail\n",
    "- Google Drive\n",
    "- Google Workspace for organizing and collaborating\n",
    "- YouTube\n",
    "- Google Photos\n",
    "- Google Play for entertainment\n",
    "- Google Maps, Waze, and Google Earth for navigation. \n",
    "- Businesses benefit from Google Ads, Google Analytics, and Google Cloud Platform, while developers use tools like Firebase and   BigQuery.\n",
    "\n",
    "Additionally, smart devices like Pixel phones, Nest home products, and Chromecast provide cutting-edge hardware solutions. Overall, Google's products aim to simplify daily life, empower businesses, and connect the world.\n",
    "\n",
    "In 2021 Statistics Highlighting Google's performance showed a revenue of $278.1 billion.\n",
    "\n",
    "Similar to Apple, for Google to continue to thrive, sentiment analysis is thus crucial to check on matters such as customer satisfaction.\n",
    "\n",
    "#### **Why Analyze Tweets?**\n",
    "- **Social Media Influence**: Platforms like Twitter have become primary channels where customers share their feedback, both positive and negative, about brands and products.\n",
    "- **Volume of Data**: The massive and real-time nature of tweets makes manual analysis impractical, necessitating automated solutions.\n",
    "- **Business Impact**: Sentiment analysis of tweets can provide actionable insights to enhance customer experience, refine marketing strategies, and maintain a competitive edge.\n",
    "\n",
    "\n",
    "##### ** Stakeholders **\n",
    "\n",
    "Sentiment analysis is important for various participants such as:\n",
    "\n",
    "- **Business Managers**: Understand customer satisfaction and drive decision-making.\n",
    "- **Marketing Teams**: Create sentiment-driven marketing campaigns.\n",
    "- **Customer Service Teams**: Prioritize resolving issues flagged in negative reviews.\n",
    "\n",
    "#### **Challenges in Sentiment Analysis**\n",
    "- **Unstructured Data**: Tweets are often informal, with abbreviations, slang, and emojis, making preprocessing essential.\n",
    "- **Ambiguity**: Some texts may have mixed sentiments or implicit emotions that are challenging to classify.\n",
    "- **Scalability**: Handling and processing large datasets efficiently is a significant challenge.\n",
    "\n",
    "#### **Proposed Solutions**\n",
    "Proof of Concept Approach: \n",
    "\n",
    "To execute the sentiment analysis . The following is the execution plan:\n",
    "- Begin with simple approaches like bag-of-words or TF-IDF vectorization \n",
    "- Proceed to commplex methods (e.g., word embeddings or transformers)\n",
    "\n",
    "Pre-trained Tools: \n",
    "\n",
    "NLP has many pre-trained models (e.g., spaCy, NLTK, Hugging Face Transformers) and libraries for quick text processing. \n",
    "\n",
    "For example, use:\n",
    "- TF-IDF + Logistic Regression for a baseline.\n",
    "- Pre-trained embeddings (e.g., Word2Vec, GloVe) for better results.\n",
    "- Fine-tuned BERT if there is access to good hardware.\n",
    "\n",
    "#### Projected Conclusion\n",
    "\n",
    "\n",
    "\n"
   ]
  },
  {
   "cell_type": "markdown",
   "metadata": {},
   "source": [
    "## **Problem statement**\n",
    "\n",
    "#### Business Problem:\n",
    "- In today’s digital world, customer feedback plays a critical role in shaping business decisions. Companies receive large volumes of unstructured textual data in the form of reviews, surveys, and social media posts. Analyzing this data manually is time-consuming and error-prone.\n",
    "\n",
    "The goal of this project is to build a sentiment analysis model that classifies customer feedback as positive, negative, or neutral. \n",
    "\n",
    "This will enable businesses to:\n",
    "- Identify key areas for improvement.\n",
    "- Tailor marketing strategies based on customer sentiment.\n",
    "- Monitor brand reputation over time.\n"
   ]
  },
  {
   "cell_type": "markdown",
   "metadata": {},
   "source": [
    "## **Objectives**\n",
    "\n",
    "1. **Primary Objective**:\n",
    "   - Build a machine learning-based sentiment classification model that categorizes tweets as **positive**, **negative**, or **neutral** towards a brand or product.\n",
    "   \n",
    "2. **Secondary Objectives**:\n",
    "   - Identify whether a tweet contains an emotion directed at a specific brand or product.\n",
    "   - Preprocess and clean the tweet text to remove noise (e.g., hashtags, mentions, and URLs).\n",
    "   - Extract key textual features that indicate sentiment and brand-related emotions.\n",
    "   - Provide actionable insights to help businesses improve customer satisfaction and marketing strategies.\n",
    "   \n",
    "   \n",
    "### **Key Questions to Address**\n",
    "1. How can we preprocess and clean textual data effectively to extract meaningful insights?\n",
    "2. What are the best features to use (e.g., word embeddings, TF-IDF, or sentiment lexicons) for classifying tweet sentiment?\n",
    "3. Which supervised learning models (e.g., Logistic Regression, Random Forest, or BERT) perform best for this task?\n",
    "4. What level of accuracy, precision, and recall can we achieve for sentiment classification?\n",
    "\n"
   ]
  },
  {
   "cell_type": "markdown",
   "metadata": {},
   "source": [
    "## **Metrics of Success**\n",
    "\n",
    "To evaluate the success of our sentiment analysis model, we will use metrics such as; accuracy, precision, recall or sensitivity, f1 score and the confusion matrix. \n",
    "\n",
    "To evaluate the performance of the sentiment classification model, we will use the following metrics:\n",
    "\n",
    "1. **Accuracy**:\n",
    "   - Accuracy will check at the percentage of the correctly classified instances of sentiments out of the total sentmental            instances.\n",
    "   - Target: **85% or higher**.\n",
    "\n",
    "2. **Precision**:\n",
    "   - Precision will tell the percentage of actually correct positive sentiment predictions, thus telling us how often the model      is correct when it predicts a positive sentiment. The percentage of actual positive sentiments, that are correctly              identified by the model will be shown by recall. This metrics is important to strike a tradeoff between true positives and      false negatives\n",
    "   - Target: **80% or higher** for each class (positive, negative, neutral).\n",
    "\n",
    "3. **Recall**:\n",
    "   - Measure the model’s ability to correctly identify all relevant examples of a specific sentiment.\n",
    "   - Target: **75% or higher** for each class.\n",
    "\n",
    "4. **F1-Score**:\n",
    "   - Provide a balanced metric that considers both precision and recall.\n",
    "   - Target: **80% or higher** overall.\n",
    "\n",
    "5. **Business Impact**:\n",
    "   - Improved customer satisfaction through the identification of key negative sentiments.\n",
    "   - Better marketing strategies based on trends in positive feedback.\n"
   ]
  },
  {
   "cell_type": "markdown",
   "metadata": {},
   "source": [
    "### 2. DATA UNDERSTANDING"
   ]
  },
  {
   "cell_type": "code",
   "execution_count": 36,
   "metadata": {},
   "outputs": [
    {
     "name": "stderr",
     "output_type": "stream",
     "text": [
      "[nltk_data] Downloading package stopwords to\n",
      "[nltk_data]     C:\\Users\\user\\AppData\\Roaming\\nltk_data...\n",
      "[nltk_data]   Package stopwords is already up-to-date!\n",
      "[nltk_data] Downloading package punkt to\n",
      "[nltk_data]     C:\\Users\\user\\AppData\\Roaming\\nltk_data...\n",
      "[nltk_data]   Package punkt is already up-to-date!\n",
      "[nltk_data] Downloading package wordnet to\n",
      "[nltk_data]     C:\\Users\\user\\AppData\\Roaming\\nltk_data...\n",
      "[nltk_data]   Package wordnet is already up-to-date!\n"
     ]
    },
    {
     "data": {
      "text/plain": [
       "True"
      ]
     },
     "execution_count": 36,
     "metadata": {},
     "output_type": "execute_result"
    }
   ],
   "source": [
    "# Importing necessary libraries\n",
    "import pandas as pd\n",
    "import numpy as np\n",
    "import re\n",
    "import matplotlib.pyplot as plt\n",
    "import seaborn as sns\n",
    "from wordcloud import WordCloud\n",
    "from sklearn.model_selection import train_test_split\n",
    "from sklearn.feature_extraction.text import TfidfVectorizer\n",
    "from sklearn.naive_bayes import MultinomialNB\n",
    "from sklearn.metrics import classification_report, confusion_matrix\n",
    "import nltk\n",
    "from nltk.corpus import stopwords\n",
    "from nltk.tokenize import word_tokenize\n",
    "from nltk.stem import WordNetLemmatizer\n",
    "\n",
    "from nltk.tokenize import word_tokenize\n",
    "\n",
    "# Download NLTK resources\n",
    "nltk.download('stopwords')\n",
    "nltk.download('punkt')\n",
    "nltk.download('wordnet')"
   ]
  },
  {
   "cell_type": "code",
   "execution_count": 17,
   "metadata": {},
   "outputs": [
    {
     "name": "stdout",
     "output_type": "stream",
     "text": [
      "Dataset Head:\n"
     ]
    },
    {
     "data": {
      "text/html": [
       "<div>\n",
       "<style scoped>\n",
       "    .dataframe tbody tr th:only-of-type {\n",
       "        vertical-align: middle;\n",
       "    }\n",
       "\n",
       "    .dataframe tbody tr th {\n",
       "        vertical-align: top;\n",
       "    }\n",
       "\n",
       "    .dataframe thead th {\n",
       "        text-align: right;\n",
       "    }\n",
       "</style>\n",
       "<table border=\"1\" class=\"dataframe\">\n",
       "  <thead>\n",
       "    <tr style=\"text-align: right;\">\n",
       "      <th></th>\n",
       "      <th>tweet_text</th>\n",
       "      <th>emotion_in_tweet_is_directed_at</th>\n",
       "      <th>is_there_an_emotion_directed_at_a_brand_or_product</th>\n",
       "    </tr>\n",
       "  </thead>\n",
       "  <tbody>\n",
       "    <tr>\n",
       "      <th>0</th>\n",
       "      <td>.@wesley83 I have a 3G iPhone. After 3 hrs twe...</td>\n",
       "      <td>iPhone</td>\n",
       "      <td>Negative emotion</td>\n",
       "    </tr>\n",
       "    <tr>\n",
       "      <th>1</th>\n",
       "      <td>@jessedee Know about @fludapp ? Awesome iPad/i...</td>\n",
       "      <td>iPad or iPhone App</td>\n",
       "      <td>Positive emotion</td>\n",
       "    </tr>\n",
       "    <tr>\n",
       "      <th>2</th>\n",
       "      <td>@swonderlin Can not wait for #iPad 2 also. The...</td>\n",
       "      <td>iPad</td>\n",
       "      <td>Positive emotion</td>\n",
       "    </tr>\n",
       "    <tr>\n",
       "      <th>3</th>\n",
       "      <td>@sxsw I hope this year's festival isn't as cra...</td>\n",
       "      <td>iPad or iPhone App</td>\n",
       "      <td>Negative emotion</td>\n",
       "    </tr>\n",
       "    <tr>\n",
       "      <th>4</th>\n",
       "      <td>@sxtxstate great stuff on Fri #SXSW: Marissa M...</td>\n",
       "      <td>Google</td>\n",
       "      <td>Positive emotion</td>\n",
       "    </tr>\n",
       "    <tr>\n",
       "      <th>5</th>\n",
       "      <td>@teachntech00 New iPad Apps For #SpeechTherapy...</td>\n",
       "      <td>NaN</td>\n",
       "      <td>No emotion toward brand or product</td>\n",
       "    </tr>\n",
       "    <tr>\n",
       "      <th>6</th>\n",
       "      <td>NaN</td>\n",
       "      <td>NaN</td>\n",
       "      <td>No emotion toward brand or product</td>\n",
       "    </tr>\n",
       "    <tr>\n",
       "      <th>7</th>\n",
       "      <td>#SXSW is just starting, #CTIA is around the co...</td>\n",
       "      <td>Android</td>\n",
       "      <td>Positive emotion</td>\n",
       "    </tr>\n",
       "    <tr>\n",
       "      <th>8</th>\n",
       "      <td>Beautifully smart and simple idea RT @madebyma...</td>\n",
       "      <td>iPad or iPhone App</td>\n",
       "      <td>Positive emotion</td>\n",
       "    </tr>\n",
       "    <tr>\n",
       "      <th>9</th>\n",
       "      <td>Counting down the days to #sxsw plus strong Ca...</td>\n",
       "      <td>Apple</td>\n",
       "      <td>Positive emotion</td>\n",
       "    </tr>\n",
       "  </tbody>\n",
       "</table>\n",
       "</div>"
      ],
      "text/plain": [
       "                                          tweet_text  \\\n",
       "0  .@wesley83 I have a 3G iPhone. After 3 hrs twe...   \n",
       "1  @jessedee Know about @fludapp ? Awesome iPad/i...   \n",
       "2  @swonderlin Can not wait for #iPad 2 also. The...   \n",
       "3  @sxsw I hope this year's festival isn't as cra...   \n",
       "4  @sxtxstate great stuff on Fri #SXSW: Marissa M...   \n",
       "5  @teachntech00 New iPad Apps For #SpeechTherapy...   \n",
       "6                                                NaN   \n",
       "7  #SXSW is just starting, #CTIA is around the co...   \n",
       "8  Beautifully smart and simple idea RT @madebyma...   \n",
       "9  Counting down the days to #sxsw plus strong Ca...   \n",
       "\n",
       "  emotion_in_tweet_is_directed_at  \\\n",
       "0                          iPhone   \n",
       "1              iPad or iPhone App   \n",
       "2                            iPad   \n",
       "3              iPad or iPhone App   \n",
       "4                          Google   \n",
       "5                             NaN   \n",
       "6                             NaN   \n",
       "7                         Android   \n",
       "8              iPad or iPhone App   \n",
       "9                           Apple   \n",
       "\n",
       "  is_there_an_emotion_directed_at_a_brand_or_product  \n",
       "0                                   Negative emotion  \n",
       "1                                   Positive emotion  \n",
       "2                                   Positive emotion  \n",
       "3                                   Negative emotion  \n",
       "4                                   Positive emotion  \n",
       "5                 No emotion toward brand or product  \n",
       "6                 No emotion toward brand or product  \n",
       "7                                   Positive emotion  \n",
       "8                                   Positive emotion  \n",
       "9                                   Positive emotion  "
      ]
     },
     "execution_count": 17,
     "metadata": {},
     "output_type": "execute_result"
    }
   ],
   "source": [
    "# Update this to your file's path\n",
    "df = pd.read_csv('judge-1377884607_tweet_product_company.csv', encoding='latin1')\n",
    "# Display the first few rows of the dataset\n",
    "print(\"Dataset Head:\")\n",
    "df.head(10)"
   ]
  },
  {
   "cell_type": "code",
   "execution_count": 3,
   "metadata": {},
   "outputs": [
    {
     "data": {
      "text/plain": [
       "Index(['iPad', 'Apple', 'iPad or iPhone App', 'Google', 'iPhone',\n",
       "       'Other Google product or service', 'Android App', 'Android',\n",
       "       'Other Apple product or service'],\n",
       "      dtype='object')"
      ]
     },
     "execution_count": 3,
     "metadata": {},
     "output_type": "execute_result"
    }
   ],
   "source": [
    "df['emotion_in_tweet_is_directed_at'].value_counts().keys()"
   ]
  },
  {
   "cell_type": "code",
   "execution_count": 5,
   "metadata": {},
   "outputs": [],
   "source": [
    "df = df.dropna(subset = ['tweet_text'])"
   ]
  },
  {
   "cell_type": "code",
   "execution_count": 19,
   "metadata": {},
   "outputs": [],
   "source": [
    "sentense = df['tweet_text'][9092]"
   ]
  },
  {
   "cell_type": "markdown",
   "metadata": {},
   "source": [
    "### Dealing with the text column\n",
    "1. Basic cleaning: removing capitalization, special characters such as ?,;., converting to lower case\n",
    "2. Tokenizing our texts column\n",
    "3. create a new column with joined words\n",
    "4. removing the stopwords"
   ]
  },
  {
   "cell_type": "code",
   "execution_count": 16,
   "metadata": {},
   "outputs": [
    {
     "data": {
      "text/html": [
       "<div>\n",
       "<style scoped>\n",
       "    .dataframe tbody tr th:only-of-type {\n",
       "        vertical-align: middle;\n",
       "    }\n",
       "\n",
       "    .dataframe tbody tr th {\n",
       "        vertical-align: top;\n",
       "    }\n",
       "\n",
       "    .dataframe thead th {\n",
       "        text-align: right;\n",
       "    }\n",
       "</style>\n",
       "<table border=\"1\" class=\"dataframe\">\n",
       "  <thead>\n",
       "    <tr style=\"text-align: right;\">\n",
       "      <th></th>\n",
       "      <th>tweet_text</th>\n",
       "      <th>emotion_in_tweet_is_directed_at</th>\n",
       "      <th>is_there_an_emotion_directed_at_a_brand_or_product</th>\n",
       "      <th>Usernames</th>\n",
       "    </tr>\n",
       "  </thead>\n",
       "  <tbody>\n",
       "    <tr>\n",
       "      <th>0</th>\n",
       "      <td>.@wesley83 I have a 3G iPhone. After 3 hrs twe...</td>\n",
       "      <td>iPhone</td>\n",
       "      <td>Negative emotion</td>\n",
       "      <td>[@wesley83]</td>\n",
       "    </tr>\n",
       "    <tr>\n",
       "      <th>1</th>\n",
       "      <td>@jessedee Know about @fludapp ? Awesome iPad/i...</td>\n",
       "      <td>iPad or iPhone App</td>\n",
       "      <td>Positive emotion</td>\n",
       "      <td>[@jessedee, @fludapp]</td>\n",
       "    </tr>\n",
       "    <tr>\n",
       "      <th>2</th>\n",
       "      <td>@swonderlin Can not wait for #iPad 2 also. The...</td>\n",
       "      <td>iPad</td>\n",
       "      <td>Positive emotion</td>\n",
       "      <td>[@swonderlin]</td>\n",
       "    </tr>\n",
       "    <tr>\n",
       "      <th>3</th>\n",
       "      <td>@sxsw I hope this year's festival isn't as cra...</td>\n",
       "      <td>iPad or iPhone App</td>\n",
       "      <td>Negative emotion</td>\n",
       "      <td>[@sxsw]</td>\n",
       "    </tr>\n",
       "    <tr>\n",
       "      <th>4</th>\n",
       "      <td>@sxtxstate great stuff on Fri #SXSW: Marissa M...</td>\n",
       "      <td>Google</td>\n",
       "      <td>Positive emotion</td>\n",
       "      <td>[@sxtxstate]</td>\n",
       "    </tr>\n",
       "    <tr>\n",
       "      <th>5</th>\n",
       "      <td>@teachntech00 New iPad Apps For #SpeechTherapy...</td>\n",
       "      <td>NaN</td>\n",
       "      <td>No emotion toward brand or product</td>\n",
       "      <td>[@teachntech00]</td>\n",
       "    </tr>\n",
       "    <tr>\n",
       "      <th>7</th>\n",
       "      <td>#SXSW is just starting, #CTIA is around the co...</td>\n",
       "      <td>Android</td>\n",
       "      <td>Positive emotion</td>\n",
       "      <td>[]</td>\n",
       "    </tr>\n",
       "    <tr>\n",
       "      <th>8</th>\n",
       "      <td>Beautifully smart and simple idea RT @madebyma...</td>\n",
       "      <td>iPad or iPhone App</td>\n",
       "      <td>Positive emotion</td>\n",
       "      <td>[@madebymany, @thenextweb]</td>\n",
       "    </tr>\n",
       "    <tr>\n",
       "      <th>9</th>\n",
       "      <td>Counting down the days to #sxsw plus strong Ca...</td>\n",
       "      <td>Apple</td>\n",
       "      <td>Positive emotion</td>\n",
       "      <td>[]</td>\n",
       "    </tr>\n",
       "    <tr>\n",
       "      <th>10</th>\n",
       "      <td>Excited to meet the @samsungmobileus at #sxsw ...</td>\n",
       "      <td>Android</td>\n",
       "      <td>Positive emotion</td>\n",
       "      <td>[@samsungmobileus]</td>\n",
       "    </tr>\n",
       "  </tbody>\n",
       "</table>\n",
       "</div>"
      ],
      "text/plain": [
       "                                           tweet_text  \\\n",
       "0   .@wesley83 I have a 3G iPhone. After 3 hrs twe...   \n",
       "1   @jessedee Know about @fludapp ? Awesome iPad/i...   \n",
       "2   @swonderlin Can not wait for #iPad 2 also. The...   \n",
       "3   @sxsw I hope this year's festival isn't as cra...   \n",
       "4   @sxtxstate great stuff on Fri #SXSW: Marissa M...   \n",
       "5   @teachntech00 New iPad Apps For #SpeechTherapy...   \n",
       "7   #SXSW is just starting, #CTIA is around the co...   \n",
       "8   Beautifully smart and simple idea RT @madebyma...   \n",
       "9   Counting down the days to #sxsw plus strong Ca...   \n",
       "10  Excited to meet the @samsungmobileus at #sxsw ...   \n",
       "\n",
       "   emotion_in_tweet_is_directed_at  \\\n",
       "0                           iPhone   \n",
       "1               iPad or iPhone App   \n",
       "2                             iPad   \n",
       "3               iPad or iPhone App   \n",
       "4                           Google   \n",
       "5                              NaN   \n",
       "7                          Android   \n",
       "8               iPad or iPhone App   \n",
       "9                            Apple   \n",
       "10                         Android   \n",
       "\n",
       "   is_there_an_emotion_directed_at_a_brand_or_product  \\\n",
       "0                                    Negative emotion   \n",
       "1                                    Positive emotion   \n",
       "2                                    Positive emotion   \n",
       "3                                    Negative emotion   \n",
       "4                                    Positive emotion   \n",
       "5                  No emotion toward brand or product   \n",
       "7                                    Positive emotion   \n",
       "8                                    Positive emotion   \n",
       "9                                    Positive emotion   \n",
       "10                                   Positive emotion   \n",
       "\n",
       "                     Usernames  \n",
       "0                  [@wesley83]  \n",
       "1        [@jessedee, @fludapp]  \n",
       "2                [@swonderlin]  \n",
       "3                      [@sxsw]  \n",
       "4                 [@sxtxstate]  \n",
       "5              [@teachntech00]  \n",
       "7                           []  \n",
       "8   [@madebymany, @thenextweb]  \n",
       "9                           []  \n",
       "10          [@samsungmobileus]  "
      ]
     },
     "execution_count": 16,
     "metadata": {},
     "output_type": "execute_result"
    }
   ],
   "source": [
    "import re\n",
    "# Regular expression to extract Twitter usernames\n",
    "pattern = r\"@\\w+\"\n",
    "\n",
    "# Extract usernames from the 'Tweets' column\n",
    "df['Usernames'] = df['tweet_text'].apply(lambda x: re.findall(pattern, x))\n",
    "\n",
    "df.head(10)"
   ]
  },
  {
   "cell_type": "code",
   "execution_count": 30,
   "metadata": {},
   "outputs": [
    {
     "data": {
      "text/plain": [
       "'New buzz? &quot;@mention Google to Launch Major New Social Network Called Circles, Possibly Today {link} rt @mention #sxsw&quot;'"
      ]
     },
     "execution_count": 30,
     "metadata": {},
     "output_type": "execute_result"
    }
   ],
   "source": [
    "sentence = df['tweet_text'][100]\n",
    "sentence"
   ]
  },
  {
   "cell_type": "code",
   "execution_count": 37,
   "metadata": {},
   "outputs": [
    {
     "data": {
      "text/plain": [
       "['New',\n",
       " 'buzz',\n",
       " '?',\n",
       " '&',\n",
       " 'quot',\n",
       " ';',\n",
       " '@',\n",
       " 'mention',\n",
       " 'Google',\n",
       " 'to',\n",
       " 'Launch',\n",
       " 'Major',\n",
       " 'New',\n",
       " 'Social',\n",
       " 'Network',\n",
       " 'Called',\n",
       " 'Circles',\n",
       " ',',\n",
       " 'Possibly',\n",
       " 'Today',\n",
       " '{',\n",
       " 'link',\n",
       " '}',\n",
       " 'rt',\n",
       " '@',\n",
       " 'mention',\n",
       " '#',\n",
       " 'sxsw',\n",
       " '&',\n",
       " 'quot',\n",
       " ';']"
      ]
     },
     "execution_count": 37,
     "metadata": {},
     "output_type": "execute_result"
    }
   ],
   "source": [
    "token = word_tokenize(sentence)\n",
    "token"
   ]
  },
  {
   "cell_type": "code",
   "execution_count": null,
   "metadata": {},
   "outputs": [],
   "source": []
  },
  {
   "cell_type": "code",
   "execution_count": 25,
   "metadata": {},
   "outputs": [
    {
     "data": {
      "text/plain": [
       "'kawasaki quotpagemaker saved applequot oh those were the days sxsw jwtatl enchantment  via '"
      ]
     },
     "execution_count": 25,
     "metadata": {},
     "output_type": "execute_result"
    }
   ],
   "source": [
    "\n",
    "# Clean text (remove unwanted characters and convert to lowercase)\n",
    "def clean_text(text):\n",
    "    if not isinstance(text, str):\n",
    "        return ''\n",
    "    text = re.sub(r'@[A-Za-z0-9_]+', '', text)  # Remove mentions (@user)\n",
    "    text = re.sub(r'http\\S+', '', text)  # Remove URLs\n",
    "    text = re.sub(r'[^a-zA-Z\\s]', '', text)  # Remove non-alphabetic characters\n",
    "    text = text.lower()  # Convert text to lowercase\n",
    "    return text\n",
    "\n",
    "#df['cleaned_tweet'] = df['tweet_text'].apply(clean_text)\n",
    "cleaned_sentense = clean_text(sentense)\n",
    "cleaned_sentense"
   ]
  },
  {
   "cell_type": "code",
   "execution_count": null,
   "metadata": {},
   "outputs": [],
   "source": [
    "tokens = nltk.word_tokenize(df[])"
   ]
  },
  {
   "cell_type": "code",
   "execution_count": null,
   "metadata": {},
   "outputs": [],
   "source": [
    "df['User_name'] = []"
   ]
  },
  {
   "cell_type": "code",
   "execution_count": null,
   "metadata": {},
   "outputs": [],
   "source": [
    "df['emotion_in_tweet_is_directed_at'].isna().value_counts(normalize = True)"
   ]
  },
  {
   "cell_type": "code",
   "execution_count": null,
   "metadata": {},
   "outputs": [],
   "source": [
    "# Display dataset information\n",
    "print(\"\\nDataset Information:\")\n",
    "df.info()"
   ]
  },
  {
   "cell_type": "code",
   "execution_count": null,
   "metadata": {
    "scrolled": true
   },
   "outputs": [],
   "source": [
    "# Display value counts for the target variable\n",
    "print(\"\\nClass Distribution:\")\n",
    "print(df['is_there_an_emotion_directed_at_a_brand_or_product'].value_counts())"
   ]
  },
  {
   "cell_type": "code",
   "execution_count": null,
   "metadata": {},
   "outputs": [],
   "source": [
    "df[]"
   ]
  }
 ],
 "metadata": {
  "kernelspec": {
   "display_name": "Python (learn-env)",
   "language": "python",
   "name": "learn-env"
  },
  "language_info": {
   "codemirror_mode": {
    "name": "ipython",
    "version": 3
   },
   "file_extension": ".py",
   "mimetype": "text/x-python",
   "name": "python",
   "nbconvert_exporter": "python",
   "pygments_lexer": "ipython3",
   "version": "3.8.5"
  }
 },
 "nbformat": 4,
 "nbformat_minor": 4
}
