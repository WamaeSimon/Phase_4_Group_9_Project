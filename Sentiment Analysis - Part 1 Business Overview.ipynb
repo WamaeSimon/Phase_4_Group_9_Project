{
 "cells": [
  {
   "cell_type": "markdown",
   "metadata": {},
   "source": [
    "# Build a model to analyze sentiment in tweets about Apple and Google products"
   ]
  },
  {
   "cell_type": "markdown",
   "metadata": {},
   "source": [
    "##  OVERVIEW AND DATA UNDERSTANDING \n",
    "#### **Business Understanding**\n",
    "\n",
    "##### **What is  sentiment analysis?**\n",
    "\n",
    "**Sentiment Analysis** also known as **Sentiment Classification** in brief uses natural language processing to identify the emotional tone behind text, such as customer feedback, and categorize it as positive, negative, or neutral. \n",
    "\n",
    "The above can also be described as a text classification tasks, where we look at a phrase, or a list of phrases and use a classifier to tell if the sentiment behind that is:\n",
    "\n",
    "- positive\n",
    "- negative \n",
    "- neutral. \n",
    "\n",
    "In some cases, the third attribute is not taken to keep it a binary classification problem. \n",
    "\n",
    "In this project we will thus carry out a sentiment classification task where we will analyzes tweets, their emotions, and whether they are directed at a brand or product i.e Apple and Google products\n",
    "\n",
    "\n",
    "\n",
    "##### **How is sentiment analysis important to an organization?**\n",
    "\n",
    "For your organization, sentiment analysis is crucial in the following ways:\n",
    "\n",
    "- Understanding customer opinions for improving experiences, and addressing concerns proactively. \n",
    "- It helps to predict customer behavior for a particular product\n",
    "- It can help to test the adaptability of a product\n",
    "- Automates the task of customer preference reports.\n",
    "\n",
    "The above are but a few benefits, but in general sentiment analysis assit business stake holders to also define various business problems regarding their products\n",
    "\n",
    "\n",
    "##### **An Overview of Apple Products**\n",
    "Apple is one of the most recognized brands in the world valued at over $2 trillion in 2021.  \n",
    "\n",
    "It is known for its innovative consumer electronics, including the iPhone, iPad, MacBook, and other devices.\n",
    "\n",
    "Apple’s next products, which may include a virtual reality headset and self-driving car. The past few product launches have been smaller in scope, like the HomePod and AirPod, and Apple fans are clamouring for the next iPhone.  \n",
    "\n",
    "Given their wide range of products some mentioned above , below we have some statistics on their performance in 2023 as at September: \n",
    "\n",
    "- 231 million iPhones, 49 million iPads and 22 million Mac and MacBook units were sold in 2023\n",
    "- Apple’s home and wearables division declined by 6.5% in 2023\n",
    "- It sold 75 million AirPods and 38 million Apple Watches in 2023\n",
    "- Apple Music has 93 million subscribers, Apple TV+ has 47 million\n",
    "\n",
    "\n",
    "To be able to consistently get high revenues, Apple needs to continuously carry out sentiment analysis on the users' strong emotional reactions to the brand , which frequently result in a mix of positive and negative sentiments in their data. \n",
    "\n",
    "Tweets being a source of helpful data , looking at Tweets on Apple products could, among other things, cover customer service experiences, software upgrades, or the introduction of new items. \n",
    "\n",
    "\n",
    "##### **An Overview of Google Products**\n",
    "\n",
    "Google offers diverse products designed to enhance productivity, connectivity, and innovation.\n",
    "\n",
    "Key offerings include:\n",
    "\n",
    "- Google Search\n",
    "- Gmail\n",
    "- Google Drive\n",
    "- Google Workspace for organizing and collaborating\n",
    "- YouTube\n",
    "- Google Photos\n",
    "- Google Play for entertainment\n",
    "- Google Maps, Waze, and Google Earth for navigation. \n",
    "- Businesses benefit from Google Ads, Google Analytics, and Google Cloud Platform, while developers use tools like Firebase and   BigQuery.\n",
    "\n",
    "Additionally, smart devices like Pixel phones, Nest home products, and Chromecast provide cutting-edge hardware solutions. Overall, Google's products aim to simplify daily life, empower businesses, and connect the world.\n",
    "\n",
    "In 2021 Statistics Highlighting Google's performance showed a revenue of $278.1 billion.\n",
    "\n",
    "Similar to Apple, for Google to continue to thrive, sentiment analysis is thus crucial to check on matters such as customer satisfaction.\n",
    "\n",
    "#### **Why Analyze Tweets?**\n",
    "- **Social Media Influence**: Platforms like Twitter have become primary channels where customers share their feedback, both positive and negative, about brands and products.\n",
    "- **Volume of Data**: The massive and real-time nature of tweets makes manual analysis impractical, necessitating automated solutions.\n",
    "- **Business Impact**: Sentiment analysis of tweets can provide actionable insights to enhance customer experience, refine marketing strategies, and maintain a competitive edge.\n",
    "\n",
    "\n",
    "##### ** Stakeholders **\n",
    "\n",
    "Sentiment analysis is important for various participants such as:\n",
    "\n",
    "- **Business Managers**: Understand customer satisfaction and drive decision-making.\n",
    "- **Marketing Teams**: Create sentiment-driven marketing campaigns.\n",
    "- **Customer Service Teams**: Prioritize resolving issues flagged in negative reviews.\n",
    "\n",
    "#### **Challenges in Sentiment Analysis**\n",
    "- **Unstructured Data**: Tweets are often informal, with abbreviations, slang, and emojis, making preprocessing essential.\n",
    "- **Ambiguity**: Some texts may have mixed sentiments or implicit emotions that are challenging to classify.\n",
    "- **Scalability**: Handling and processing large datasets efficiently is a significant challenge.\n",
    "\n",
    "#### **Proposed Solutions**\n",
    "Proof of Concept Approach: \n",
    "\n",
    "To execute the sentiment analysis . The following is the execution plan:\n",
    "- Begin with simple approaches like bag-of-words or TF-IDF vectorization \n",
    "- Proceed to commplex methods (e.g., word embeddings or transformers)\n",
    "\n",
    "Pre-trained Tools: \n",
    "\n",
    "NLP has many pre-trained models (e.g., spaCy, NLTK, Hugging Face Transformers) and libraries for quick text processing. \n",
    "\n",
    "For example, use:\n",
    "- TF-IDF + Logistic Regression for a baseline.\n",
    "- Pre-trained embeddings (e.g., Word2Vec, GloVe) for better results.\n",
    "- Fine-tuned BERT if there is access to good hardware.\n",
    "\n",
    "#### Projected Conclusion\n",
    "\n",
    "\n",
    "\n"
   ]
  },
  {
   "cell_type": "markdown",
   "metadata": {},
   "source": [
    "## **Problem statement**\n",
    "\n",
    "#### Business Problem:\n",
    "- In today’s digital world, customer feedback plays a critical role in shaping business decisions. Companies receive large volumes of unstructured textual data in the form of reviews, surveys, and social media posts. Analyzing this data manually is time-consuming and error-prone.\n",
    "\n",
    "The goal of this project is to build a sentiment analysis model that classifies customer feedback as positive, negative, or neutral. \n",
    "\n",
    "This will enable businesses to:\n",
    "- Identify key areas for improvement.\n",
    "- Tailor marketing strategies based on customer sentiment.\n",
    "- Monitor brand reputation over time.\n"
   ]
  },
  {
   "cell_type": "markdown",
   "metadata": {},
   "source": [
    "## **Objectives**\n",
    "\n",
    "1. **Primary Objective**:\n",
    "   - Build a machine learning-based sentiment classification model that categorizes tweets as **positive**, **negative**, or **neutral** towards a brand or product.\n",
    "   \n",
    "2. **Secondary Objectives**:\n",
    "   - Identify whether a tweet contains an emotion directed at a specific brand or product.\n",
    "   - Preprocess and clean the tweet text to remove noise (e.g., hashtags, mentions, and URLs).\n",
    "   - Extract key textual features that indicate sentiment and brand-related emotions.\n",
    "   - Provide actionable insights to help businesses improve customer satisfaction and marketing strategies.\n",
    "   \n",
    "   \n",
    "### **Key Questions to Address**\n",
    "1. How can we preprocess and clean textual data effectively to extract meaningful insights?\n",
    "2. What are the best features to use (e.g., word embeddings, TF-IDF, or sentiment lexicons) for classifying tweet sentiment?\n",
    "3. Which supervised learning models (e.g., Logistic Regression, Random Forest, or BERT) perform best for this task?\n",
    "4. What level of accuracy, precision, and recall can we achieve for sentiment classification?\n",
    "\n"
   ]
  },
  {
   "cell_type": "markdown",
   "metadata": {},
   "source": [
    "## **Metrics of Success**\n",
    "\n",
    "To evaluate the success of our sentiment analysis model, we will use metrics such as; accuracy, precision, recall or sensitivity, f1 score and the confusion matrix. \n",
    "\n",
    "To evaluate the performance of the sentiment classification model, we will use the following metrics:\n",
    "\n",
    "1. **Accuracy**:\n",
    "   - Accuracy will check at the percentage of the correctly classified instances of sentiments out of the total sentmental            instances.\n",
    "   - Target: **85% or higher**.\n",
    "\n",
    "2. **Precision**:\n",
    "   - Precision will tell the percentage of actually correct positive sentiment predictions, thus telling us how often the model      is correct when it predicts a positive sentiment. The percentage of actual positive sentiments, that are correctly              identified by the model will be shown by recall. This metrics is important to strike a tradeoff between true positives and      false negatives\n",
    "   - Target: **80% or higher** for each class (positive, negative, neutral).\n",
    "\n",
    "3. **Recall**:\n",
    "   - Measure the model’s ability to correctly identify all relevant examples of a specific sentiment.\n",
    "   - Target: **75% or higher** for each class.\n",
    "\n",
    "4. **F1-Score**:\n",
    "   - Provide a balanced metric that considers both precision and recall.\n",
    "   - Target: **80% or higher** overall.\n",
    "\n",
    "5. **Business Impact**:\n",
    "   - Improved customer satisfaction through the identification of key negative sentiments.\n",
    "   - Better marketing strategies based on trends in positive feedback.\n"
   ]
  },
  {
   "cell_type": "markdown",
   "metadata": {},
   "source": [
    "### 2. DATA UNDERSTANDING"
   ]
  },
  {
   "cell_type": "code",
   "execution_count": 166,
   "metadata": {},
   "outputs": [
    {
     "name": "stderr",
     "output_type": "stream",
     "text": [
      "[nltk_data] Downloading package stopwords to\n",
      "[nltk_data]     C:\\Users\\user\\AppData\\Roaming\\nltk_data...\n",
      "[nltk_data]   Package stopwords is already up-to-date!\n",
      "[nltk_data] Downloading package punkt to\n",
      "[nltk_data]     C:\\Users\\user\\AppData\\Roaming\\nltk_data...\n",
      "[nltk_data]   Package punkt is already up-to-date!\n",
      "[nltk_data] Downloading package wordnet to\n",
      "[nltk_data]     C:\\Users\\user\\AppData\\Roaming\\nltk_data...\n",
      "[nltk_data]   Package wordnet is already up-to-date!\n"
     ]
    },
    {
     "data": {
      "text/plain": [
       "True"
      ]
     },
     "execution_count": 166,
     "metadata": {},
     "output_type": "execute_result"
    }
   ],
   "source": [
    "# Importing necessary libraries\n",
    "import pandas as pd\n",
    "import numpy as np\n",
    "import re\n",
    "import matplotlib.pyplot as plt\n",
    "import seaborn as sns\n",
    "from wordcloud import WordCloud\n",
    "from sklearn.model_selection import train_test_split\n",
    "from sklearn.feature_extraction.text import TfidfVectorizer\n",
    "from sklearn.naive_bayes import MultinomialNB\n",
    "from sklearn.metrics import classification_report, confusion_matrix\n",
    "import nltk\n",
    "from nltk.corpus import stopwords\n",
    "from nltk.tokenize import word_tokenize\n",
    "from nltk.stem import WordNetLemmatizer\n",
    "\n",
    "from nltk.tokenize import word_tokenize\n",
    "\n",
    "# Download NLTK resources\n",
    "nltk.download('stopwords')\n",
    "nltk.download('punkt')\n",
    "nltk.download('wordnet')"
   ]
  },
  {
   "cell_type": "code",
   "execution_count": 167,
   "metadata": {},
   "outputs": [
    {
     "name": "stdout",
     "output_type": "stream",
     "text": [
      "Dataset Head:\n"
     ]
    },
    {
     "data": {
      "text/html": [
       "<div>\n",
       "<style scoped>\n",
       "    .dataframe tbody tr th:only-of-type {\n",
       "        vertical-align: middle;\n",
       "    }\n",
       "\n",
       "    .dataframe tbody tr th {\n",
       "        vertical-align: top;\n",
       "    }\n",
       "\n",
       "    .dataframe thead th {\n",
       "        text-align: right;\n",
       "    }\n",
       "</style>\n",
       "<table border=\"1\" class=\"dataframe\">\n",
       "  <thead>\n",
       "    <tr style=\"text-align: right;\">\n",
       "      <th></th>\n",
       "      <th>tweet_text</th>\n",
       "      <th>emotion_in_tweet_is_directed_at</th>\n",
       "      <th>is_there_an_emotion_directed_at_a_brand_or_product</th>\n",
       "    </tr>\n",
       "  </thead>\n",
       "  <tbody>\n",
       "    <tr>\n",
       "      <th>0</th>\n",
       "      <td>.@wesley83 I have a 3G iPhone. After 3 hrs twe...</td>\n",
       "      <td>iPhone</td>\n",
       "      <td>Negative emotion</td>\n",
       "    </tr>\n",
       "    <tr>\n",
       "      <th>1</th>\n",
       "      <td>@jessedee Know about @fludapp ? Awesome iPad/i...</td>\n",
       "      <td>iPad or iPhone App</td>\n",
       "      <td>Positive emotion</td>\n",
       "    </tr>\n",
       "    <tr>\n",
       "      <th>2</th>\n",
       "      <td>@swonderlin Can not wait for #iPad 2 also. The...</td>\n",
       "      <td>iPad</td>\n",
       "      <td>Positive emotion</td>\n",
       "    </tr>\n",
       "    <tr>\n",
       "      <th>3</th>\n",
       "      <td>@sxsw I hope this year's festival isn't as cra...</td>\n",
       "      <td>iPad or iPhone App</td>\n",
       "      <td>Negative emotion</td>\n",
       "    </tr>\n",
       "    <tr>\n",
       "      <th>4</th>\n",
       "      <td>@sxtxstate great stuff on Fri #SXSW: Marissa M...</td>\n",
       "      <td>Google</td>\n",
       "      <td>Positive emotion</td>\n",
       "    </tr>\n",
       "    <tr>\n",
       "      <th>5</th>\n",
       "      <td>@teachntech00 New iPad Apps For #SpeechTherapy...</td>\n",
       "      <td>NaN</td>\n",
       "      <td>No emotion toward brand or product</td>\n",
       "    </tr>\n",
       "    <tr>\n",
       "      <th>6</th>\n",
       "      <td>NaN</td>\n",
       "      <td>NaN</td>\n",
       "      <td>No emotion toward brand or product</td>\n",
       "    </tr>\n",
       "    <tr>\n",
       "      <th>7</th>\n",
       "      <td>#SXSW is just starting, #CTIA is around the co...</td>\n",
       "      <td>Android</td>\n",
       "      <td>Positive emotion</td>\n",
       "    </tr>\n",
       "    <tr>\n",
       "      <th>8</th>\n",
       "      <td>Beautifully smart and simple idea RT @madebyma...</td>\n",
       "      <td>iPad or iPhone App</td>\n",
       "      <td>Positive emotion</td>\n",
       "    </tr>\n",
       "    <tr>\n",
       "      <th>9</th>\n",
       "      <td>Counting down the days to #sxsw plus strong Ca...</td>\n",
       "      <td>Apple</td>\n",
       "      <td>Positive emotion</td>\n",
       "    </tr>\n",
       "  </tbody>\n",
       "</table>\n",
       "</div>"
      ],
      "text/plain": [
       "                                          tweet_text  \\\n",
       "0  .@wesley83 I have a 3G iPhone. After 3 hrs twe...   \n",
       "1  @jessedee Know about @fludapp ? Awesome iPad/i...   \n",
       "2  @swonderlin Can not wait for #iPad 2 also. The...   \n",
       "3  @sxsw I hope this year's festival isn't as cra...   \n",
       "4  @sxtxstate great stuff on Fri #SXSW: Marissa M...   \n",
       "5  @teachntech00 New iPad Apps For #SpeechTherapy...   \n",
       "6                                                NaN   \n",
       "7  #SXSW is just starting, #CTIA is around the co...   \n",
       "8  Beautifully smart and simple idea RT @madebyma...   \n",
       "9  Counting down the days to #sxsw plus strong Ca...   \n",
       "\n",
       "  emotion_in_tweet_is_directed_at  \\\n",
       "0                          iPhone   \n",
       "1              iPad or iPhone App   \n",
       "2                            iPad   \n",
       "3              iPad or iPhone App   \n",
       "4                          Google   \n",
       "5                             NaN   \n",
       "6                             NaN   \n",
       "7                         Android   \n",
       "8              iPad or iPhone App   \n",
       "9                           Apple   \n",
       "\n",
       "  is_there_an_emotion_directed_at_a_brand_or_product  \n",
       "0                                   Negative emotion  \n",
       "1                                   Positive emotion  \n",
       "2                                   Positive emotion  \n",
       "3                                   Negative emotion  \n",
       "4                                   Positive emotion  \n",
       "5                 No emotion toward brand or product  \n",
       "6                 No emotion toward brand or product  \n",
       "7                                   Positive emotion  \n",
       "8                                   Positive emotion  \n",
       "9                                   Positive emotion  "
      ]
     },
     "execution_count": 167,
     "metadata": {},
     "output_type": "execute_result"
    }
   ],
   "source": [
    "# Update this to your file's path\n",
    "df = pd.read_csv('judge-1377884607_tweet_product_company.csv', encoding='latin1')\n",
    "# Display the first few rows of the dataset\n",
    "print(\"Dataset Head:\")\n",
    "df.head(10)"
   ]
  },
  {
   "cell_type": "code",
   "execution_count": 168,
   "metadata": {},
   "outputs": [
    {
     "data": {
      "text/plain": [
       "Index(['iPad', 'Apple', 'iPad or iPhone App', 'Google', 'iPhone',\n",
       "       'Other Google product or service', 'Android App', 'Android',\n",
       "       'Other Apple product or service'],\n",
       "      dtype='object')"
      ]
     },
     "execution_count": 168,
     "metadata": {},
     "output_type": "execute_result"
    }
   ],
   "source": [
    "df['emotion_in_tweet_is_directed_at'].value_counts().keys()"
   ]
  },
  {
   "cell_type": "code",
   "execution_count": 169,
   "metadata": {},
   "outputs": [],
   "source": [
    "df = df.dropna(subset = ['tweet_text'])"
   ]
  },
  {
   "cell_type": "code",
   "execution_count": 170,
   "metadata": {},
   "outputs": [],
   "source": [
    "sentense = df['tweet_text'][9092]"
   ]
  },
  {
   "cell_type": "markdown",
   "metadata": {},
   "source": [
    "### Dealing with the text column\n",
    "1. Basic cleaning: removing capitalization, special characters such as ?,;., converting to lower case\n",
    "2. Tokenizing our texts column\n",
    "3. create a new column with joined words\n",
    "4. removing the stopwords"
   ]
  },
  {
   "cell_type": "code",
   "execution_count": 171,
   "metadata": {},
   "outputs": [
    {
     "data": {
      "text/html": [
       "<div>\n",
       "<style scoped>\n",
       "    .dataframe tbody tr th:only-of-type {\n",
       "        vertical-align: middle;\n",
       "    }\n",
       "\n",
       "    .dataframe tbody tr th {\n",
       "        vertical-align: top;\n",
       "    }\n",
       "\n",
       "    .dataframe thead th {\n",
       "        text-align: right;\n",
       "    }\n",
       "</style>\n",
       "<table border=\"1\" class=\"dataframe\">\n",
       "  <thead>\n",
       "    <tr style=\"text-align: right;\">\n",
       "      <th></th>\n",
       "      <th>tweet_text</th>\n",
       "      <th>emotion_in_tweet_is_directed_at</th>\n",
       "      <th>is_there_an_emotion_directed_at_a_brand_or_product</th>\n",
       "      <th>Usernames</th>\n",
       "      <th>Tagged_Names</th>\n",
       "    </tr>\n",
       "  </thead>\n",
       "  <tbody>\n",
       "    <tr>\n",
       "      <th>0</th>\n",
       "      <td>.@wesley83 I have a 3G iPhone. After 3 hrs twe...</td>\n",
       "      <td>iPhone</td>\n",
       "      <td>Negative emotion</td>\n",
       "      <td>[@wesley83]</td>\n",
       "      <td>[#RISE_Austin, #SXSW]</td>\n",
       "    </tr>\n",
       "    <tr>\n",
       "      <th>1</th>\n",
       "      <td>@jessedee Know about @fludapp ? Awesome iPad/i...</td>\n",
       "      <td>iPad or iPhone App</td>\n",
       "      <td>Positive emotion</td>\n",
       "      <td>[@jessedee, @fludapp]</td>\n",
       "      <td>[#SXSW]</td>\n",
       "    </tr>\n",
       "    <tr>\n",
       "      <th>2</th>\n",
       "      <td>@swonderlin Can not wait for #iPad 2 also. The...</td>\n",
       "      <td>iPad</td>\n",
       "      <td>Positive emotion</td>\n",
       "      <td>[@swonderlin]</td>\n",
       "      <td>[#iPad, #SXSW]</td>\n",
       "    </tr>\n",
       "    <tr>\n",
       "      <th>3</th>\n",
       "      <td>@sxsw I hope this year's festival isn't as cra...</td>\n",
       "      <td>iPad or iPhone App</td>\n",
       "      <td>Negative emotion</td>\n",
       "      <td>[@sxsw]</td>\n",
       "      <td>[#sxsw]</td>\n",
       "    </tr>\n",
       "    <tr>\n",
       "      <th>4</th>\n",
       "      <td>@sxtxstate great stuff on Fri #SXSW: Marissa M...</td>\n",
       "      <td>Google</td>\n",
       "      <td>Positive emotion</td>\n",
       "      <td>[@sxtxstate]</td>\n",
       "      <td>[#SXSW]</td>\n",
       "    </tr>\n",
       "    <tr>\n",
       "      <th>5</th>\n",
       "      <td>@teachntech00 New iPad Apps For #SpeechTherapy...</td>\n",
       "      <td>NaN</td>\n",
       "      <td>No emotion toward brand or product</td>\n",
       "      <td>[@teachntech00]</td>\n",
       "      <td>[#SpeechTherapy, #SXSW, #iear, #edchat, #asd]</td>\n",
       "    </tr>\n",
       "    <tr>\n",
       "      <th>7</th>\n",
       "      <td>#SXSW is just starting, #CTIA is around the co...</td>\n",
       "      <td>Android</td>\n",
       "      <td>Positive emotion</td>\n",
       "      <td>[]</td>\n",
       "      <td>[#SXSW, #CTIA, #googleio, #android]</td>\n",
       "    </tr>\n",
       "    <tr>\n",
       "      <th>8</th>\n",
       "      <td>Beautifully smart and simple idea RT @madebyma...</td>\n",
       "      <td>iPad or iPhone App</td>\n",
       "      <td>Positive emotion</td>\n",
       "      <td>[@madebymany, @thenextweb]</td>\n",
       "      <td>[#hollergram, #sxsw]</td>\n",
       "    </tr>\n",
       "    <tr>\n",
       "      <th>9</th>\n",
       "      <td>Counting down the days to #sxsw plus strong Ca...</td>\n",
       "      <td>Apple</td>\n",
       "      <td>Positive emotion</td>\n",
       "      <td>[]</td>\n",
       "      <td>[#sxsw]</td>\n",
       "    </tr>\n",
       "    <tr>\n",
       "      <th>10</th>\n",
       "      <td>Excited to meet the @samsungmobileus at #sxsw ...</td>\n",
       "      <td>Android</td>\n",
       "      <td>Positive emotion</td>\n",
       "      <td>[@samsungmobileus]</td>\n",
       "      <td>[#sxsw, #fail]</td>\n",
       "    </tr>\n",
       "  </tbody>\n",
       "</table>\n",
       "</div>"
      ],
      "text/plain": [
       "                                           tweet_text  \\\n",
       "0   .@wesley83 I have a 3G iPhone. After 3 hrs twe...   \n",
       "1   @jessedee Know about @fludapp ? Awesome iPad/i...   \n",
       "2   @swonderlin Can not wait for #iPad 2 also. The...   \n",
       "3   @sxsw I hope this year's festival isn't as cra...   \n",
       "4   @sxtxstate great stuff on Fri #SXSW: Marissa M...   \n",
       "5   @teachntech00 New iPad Apps For #SpeechTherapy...   \n",
       "7   #SXSW is just starting, #CTIA is around the co...   \n",
       "8   Beautifully smart and simple idea RT @madebyma...   \n",
       "9   Counting down the days to #sxsw plus strong Ca...   \n",
       "10  Excited to meet the @samsungmobileus at #sxsw ...   \n",
       "\n",
       "   emotion_in_tweet_is_directed_at  \\\n",
       "0                           iPhone   \n",
       "1               iPad or iPhone App   \n",
       "2                             iPad   \n",
       "3               iPad or iPhone App   \n",
       "4                           Google   \n",
       "5                              NaN   \n",
       "7                          Android   \n",
       "8               iPad or iPhone App   \n",
       "9                            Apple   \n",
       "10                         Android   \n",
       "\n",
       "   is_there_an_emotion_directed_at_a_brand_or_product  \\\n",
       "0                                    Negative emotion   \n",
       "1                                    Positive emotion   \n",
       "2                                    Positive emotion   \n",
       "3                                    Negative emotion   \n",
       "4                                    Positive emotion   \n",
       "5                  No emotion toward brand or product   \n",
       "7                                    Positive emotion   \n",
       "8                                    Positive emotion   \n",
       "9                                    Positive emotion   \n",
       "10                                   Positive emotion   \n",
       "\n",
       "                     Usernames                                   Tagged_Names  \n",
       "0                  [@wesley83]                          [#RISE_Austin, #SXSW]  \n",
       "1        [@jessedee, @fludapp]                                        [#SXSW]  \n",
       "2                [@swonderlin]                                 [#iPad, #SXSW]  \n",
       "3                      [@sxsw]                                        [#sxsw]  \n",
       "4                 [@sxtxstate]                                        [#SXSW]  \n",
       "5              [@teachntech00]  [#SpeechTherapy, #SXSW, #iear, #edchat, #asd]  \n",
       "7                           []            [#SXSW, #CTIA, #googleio, #android]  \n",
       "8   [@madebymany, @thenextweb]                           [#hollergram, #sxsw]  \n",
       "9                           []                                        [#sxsw]  \n",
       "10          [@samsungmobileus]                                 [#sxsw, #fail]  "
      ]
     },
     "execution_count": 171,
     "metadata": {},
     "output_type": "execute_result"
    }
   ],
   "source": [
    "import re\n",
    "# Regular expression to extract Twitter usernames\n",
    "pattern = r\"@\\w+\"\n",
    "pattern_2 = r'#\\w+'\n",
    "\n",
    "# Extract usernames from the 'Tweets' column\n",
    "df['Usernames'] = df['tweet_text'].apply(lambda x: re.findall(pattern, x))\n",
    "df['Tagged_Names'] = df['tweet_text'].apply(lambda x: re.findall(pattern_2, x))\n",
    "\n",
    "df.head(10)"
   ]
  },
  {
   "cell_type": "code",
   "execution_count": 172,
   "metadata": {},
   "outputs": [
    {
     "data": {
      "text/plain": [
       "'Excited to meet the @samsungmobileus at #sxsw so I can show them my Sprint Galaxy S still running Android 2.1.   #fail'"
      ]
     },
     "execution_count": 172,
     "metadata": {},
     "output_type": "execute_result"
    }
   ],
   "source": [
    "sentence = df['tweet_text'][10]\n",
    "sentence"
   ]
  },
  {
   "cell_type": "markdown",
   "metadata": {},
   "source": [
    "##### converting to lower case\n",
    "Apply to the whole dataframe."
   ]
  },
  {
   "cell_type": "code",
   "execution_count": 173,
   "metadata": {},
   "outputs": [],
   "source": [
    "# Transform the whole dataset (df[tweet_text]) to lowercase\n",
    "df[\"tweet_text\"] = df[\"tweet_text\"].str.lower()"
   ]
  },
  {
   "cell_type": "code",
   "execution_count": 174,
   "metadata": {},
   "outputs": [],
   "source": [
    "# Display full text\n",
    "#df.style.set_properties(**{'text-align': 'left'})"
   ]
  },
  {
   "cell_type": "code",
   "execution_count": 175,
   "metadata": {},
   "outputs": [
    {
     "data": {
      "text/plain": [
       "\"@jessedee know about @fludapp ? awesome ipad/iphone app that you'll likely appreciate for its design. also, they're giving free ts at #sxsw\""
      ]
     },
     "execution_count": 175,
     "metadata": {},
     "output_type": "execute_result"
    }
   ],
   "source": [
    "sentence = df['tweet_text'][1]\n",
    "sentence"
   ]
  },
  {
   "cell_type": "code",
   "execution_count": 176,
   "metadata": {},
   "outputs": [],
   "source": [
    "\n",
    "import re\n",
    "\n",
    "# Create a function that removes words starting with @ and #\n",
    "def remove_words_with_at(text):\n",
    "    # Use a regular expression to remove words containing \"@\" and words starting with \"#\"\n",
    "    cleaned_text = re.sub(r'\\S*@\\S*|#\\w+','', text)\n",
    "  \n",
    "    return cleaned_text"
   ]
  },
  {
   "cell_type": "code",
   "execution_count": 177,
   "metadata": {},
   "outputs": [
    {
     "data": {
      "text/plain": [
       "\" know about  ? awesome ipad/iphone app that you'll likely appreciate for its design. also, they're giving free ts at \""
      ]
     },
     "execution_count": 177,
     "metadata": {},
     "output_type": "execute_result"
    }
   ],
   "source": [
    "remove_words_with_at(sentence)"
   ]
  },
  {
   "cell_type": "code",
   "execution_count": 178,
   "metadata": {},
   "outputs": [
    {
     "data": {
      "text/html": [
       "<div>\n",
       "<style scoped>\n",
       "    .dataframe tbody tr th:only-of-type {\n",
       "        vertical-align: middle;\n",
       "    }\n",
       "\n",
       "    .dataframe tbody tr th {\n",
       "        vertical-align: top;\n",
       "    }\n",
       "\n",
       "    .dataframe thead th {\n",
       "        text-align: right;\n",
       "    }\n",
       "</style>\n",
       "<table border=\"1\" class=\"dataframe\">\n",
       "  <thead>\n",
       "    <tr style=\"text-align: right;\">\n",
       "      <th></th>\n",
       "      <th>tweet_text</th>\n",
       "      <th>emotion_in_tweet_is_directed_at</th>\n",
       "      <th>is_there_an_emotion_directed_at_a_brand_or_product</th>\n",
       "      <th>Usernames</th>\n",
       "      <th>Tagged_Names</th>\n",
       "      <th>clean_tweet_text</th>\n",
       "    </tr>\n",
       "  </thead>\n",
       "  <tbody>\n",
       "    <tr>\n",
       "      <th>0</th>\n",
       "      <td>.@wesley83 i have a 3g iphone. after 3 hrs twe...</td>\n",
       "      <td>iPhone</td>\n",
       "      <td>Negative emotion</td>\n",
       "      <td>[@wesley83]</td>\n",
       "      <td>[#RISE_Austin, #SXSW]</td>\n",
       "      <td>i have a 3g iphone. after 3 hrs tweeting at ,...</td>\n",
       "    </tr>\n",
       "    <tr>\n",
       "      <th>1</th>\n",
       "      <td>@jessedee know about @fludapp ? awesome ipad/i...</td>\n",
       "      <td>iPad or iPhone App</td>\n",
       "      <td>Positive emotion</td>\n",
       "      <td>[@jessedee, @fludapp]</td>\n",
       "      <td>[#SXSW]</td>\n",
       "      <td>know about  ? awesome ipad/iphone app that yo...</td>\n",
       "    </tr>\n",
       "    <tr>\n",
       "      <th>2</th>\n",
       "      <td>@swonderlin can not wait for #ipad 2 also. the...</td>\n",
       "      <td>iPad</td>\n",
       "      <td>Positive emotion</td>\n",
       "      <td>[@swonderlin]</td>\n",
       "      <td>[#iPad, #SXSW]</td>\n",
       "      <td>can not wait for  2 also. they should sale th...</td>\n",
       "    </tr>\n",
       "    <tr>\n",
       "      <th>3</th>\n",
       "      <td>@sxsw i hope this year's festival isn't as cra...</td>\n",
       "      <td>iPad or iPhone App</td>\n",
       "      <td>Negative emotion</td>\n",
       "      <td>[@sxsw]</td>\n",
       "      <td>[#sxsw]</td>\n",
       "      <td>i hope this year's festival isn't as crashy a...</td>\n",
       "    </tr>\n",
       "    <tr>\n",
       "      <th>4</th>\n",
       "      <td>@sxtxstate great stuff on fri #sxsw: marissa m...</td>\n",
       "      <td>Google</td>\n",
       "      <td>Positive emotion</td>\n",
       "      <td>[@sxtxstate]</td>\n",
       "      <td>[#SXSW]</td>\n",
       "      <td>great stuff on fri : marissa mayer (google), ...</td>\n",
       "    </tr>\n",
       "  </tbody>\n",
       "</table>\n",
       "</div>"
      ],
      "text/plain": [
       "                                          tweet_text  \\\n",
       "0  .@wesley83 i have a 3g iphone. after 3 hrs twe...   \n",
       "1  @jessedee know about @fludapp ? awesome ipad/i...   \n",
       "2  @swonderlin can not wait for #ipad 2 also. the...   \n",
       "3  @sxsw i hope this year's festival isn't as cra...   \n",
       "4  @sxtxstate great stuff on fri #sxsw: marissa m...   \n",
       "\n",
       "  emotion_in_tweet_is_directed_at  \\\n",
       "0                          iPhone   \n",
       "1              iPad or iPhone App   \n",
       "2                            iPad   \n",
       "3              iPad or iPhone App   \n",
       "4                          Google   \n",
       "\n",
       "  is_there_an_emotion_directed_at_a_brand_or_product              Usernames  \\\n",
       "0                                   Negative emotion            [@wesley83]   \n",
       "1                                   Positive emotion  [@jessedee, @fludapp]   \n",
       "2                                   Positive emotion          [@swonderlin]   \n",
       "3                                   Negative emotion                [@sxsw]   \n",
       "4                                   Positive emotion           [@sxtxstate]   \n",
       "\n",
       "            Tagged_Names                                   clean_tweet_text  \n",
       "0  [#RISE_Austin, #SXSW]   i have a 3g iphone. after 3 hrs tweeting at ,...  \n",
       "1                [#SXSW]   know about  ? awesome ipad/iphone app that yo...  \n",
       "2         [#iPad, #SXSW]   can not wait for  2 also. they should sale th...  \n",
       "3                [#sxsw]   i hope this year's festival isn't as crashy a...  \n",
       "4                [#SXSW]   great stuff on fri : marissa mayer (google), ...  "
      ]
     },
     "execution_count": 178,
     "metadata": {},
     "output_type": "execute_result"
    }
   ],
   "source": [
    "# Apply the function to the whole dataset\n",
    "# Create a new column for texts with no @ and # \n",
    "\n",
    "# Create new column with tokenized data\n",
    "df[\"clean_tweet_text\"] = df[\"tweet_text\"].apply(remove_words_with_at)\n",
    "# Display full text\n",
    "#df.style.set_properties(**{'text-align': 'left'})\n",
    "df.head()"
   ]
  },
  {
   "cell_type": "code",
   "execution_count": 199,
   "metadata": {},
   "outputs": [
    {
     "data": {
      "text/plain": [
       "Google                        2169\n",
       "                              1784\n",
       "iPad                          1714\n",
       "Apple                         1193\n",
       "iPhone                        1041\n",
       "iPad Apple                     569\n",
       "Android                        241\n",
       "iPhone Android                 118\n",
       "iPad iPhone                    103\n",
       "Android App Android             30\n",
       "Apple Google                    23\n",
       "Apple iPhone                    23\n",
       "iPad Android                    23\n",
       "Google Android                  15\n",
       "iPhone Android App Android      10\n",
       "iPad Google                     10\n",
       "iPad iPhone Android              8\n",
       "Apple Android                    7\n",
       "iPad Apple iPhone                4\n",
       "Google iPhone                    3\n",
       "iPad Google iPhone               2\n",
       "Google iPhone Android            2\n",
       "Name: category_words, dtype: int64"
      ]
     },
     "execution_count": 199,
     "metadata": {},
     "output_type": "execute_result"
    }
   ],
   "source": [
    "def extract_category_words(tweet, categories):\n",
    "    # Tokenize and check for category words\n",
    "    extracted_words = []\n",
    "    for category in categories:\n",
    "        if category.lower() in tweet.lower():\n",
    "            extracted_words.append(category)\n",
    "    return \" \".join(extracted_words)\n",
    "df['category_words'] = df['clean_tweet_text'].apply(lambda x: extract_category_words(x, categories))\n",
    "df['category_words'].value_counts()"
   ]
  },
  {
   "cell_type": "markdown",
   "metadata": {},
   "source": [
    "##### Dealing with the blanks\n"
   ]
  },
  {
   "cell_type": "code",
   "execution_count": 180,
   "metadata": {},
   "outputs": [
    {
     "data": {
      "text/html": [
       "<div>\n",
       "<style scoped>\n",
       "    .dataframe tbody tr th:only-of-type {\n",
       "        vertical-align: middle;\n",
       "    }\n",
       "\n",
       "    .dataframe tbody tr th {\n",
       "        vertical-align: top;\n",
       "    }\n",
       "\n",
       "    .dataframe thead th {\n",
       "        text-align: right;\n",
       "    }\n",
       "</style>\n",
       "<table border=\"1\" class=\"dataframe\">\n",
       "  <thead>\n",
       "    <tr style=\"text-align: right;\">\n",
       "      <th></th>\n",
       "      <th>tweet_text</th>\n",
       "      <th>emotion_in_tweet_is_directed_at</th>\n",
       "      <th>is_there_an_emotion_directed_at_a_brand_or_product</th>\n",
       "      <th>Usernames</th>\n",
       "      <th>Tagged_Names</th>\n",
       "      <th>clean_tweet_text</th>\n",
       "      <th>category_words</th>\n",
       "    </tr>\n",
       "  </thead>\n",
       "  <tbody>\n",
       "    <tr>\n",
       "      <th>0</th>\n",
       "      <td>.@wesley83 i have a 3g iphone. after 3 hrs twe...</td>\n",
       "      <td>iPhone</td>\n",
       "      <td>Negative emotion</td>\n",
       "      <td>[@wesley83]</td>\n",
       "      <td>[#RISE_Austin, #SXSW]</td>\n",
       "      <td>i have a 3g iphone. after 3 hrs tweeting at ,...</td>\n",
       "      <td>iPhone</td>\n",
       "    </tr>\n",
       "    <tr>\n",
       "      <th>1</th>\n",
       "      <td>@jessedee know about @fludapp ? awesome ipad/i...</td>\n",
       "      <td>iPad or iPhone App</td>\n",
       "      <td>Positive emotion</td>\n",
       "      <td>[@jessedee, @fludapp]</td>\n",
       "      <td>[#SXSW]</td>\n",
       "      <td>know about  ? awesome ipad/iphone app that yo...</td>\n",
       "      <td>iPad iPhone</td>\n",
       "    </tr>\n",
       "    <tr>\n",
       "      <th>2</th>\n",
       "      <td>@swonderlin can not wait for #ipad 2 also. the...</td>\n",
       "      <td>iPad</td>\n",
       "      <td>Positive emotion</td>\n",
       "      <td>[@swonderlin]</td>\n",
       "      <td>[#iPad, #SXSW]</td>\n",
       "      <td>can not wait for  2 also. they should sale th...</td>\n",
       "      <td></td>\n",
       "    </tr>\n",
       "    <tr>\n",
       "      <th>3</th>\n",
       "      <td>@sxsw i hope this year's festival isn't as cra...</td>\n",
       "      <td>iPad or iPhone App</td>\n",
       "      <td>Negative emotion</td>\n",
       "      <td>[@sxsw]</td>\n",
       "      <td>[#sxsw]</td>\n",
       "      <td>i hope this year's festival isn't as crashy a...</td>\n",
       "      <td>iPhone</td>\n",
       "    </tr>\n",
       "    <tr>\n",
       "      <th>4</th>\n",
       "      <td>@sxtxstate great stuff on fri #sxsw: marissa m...</td>\n",
       "      <td>Google</td>\n",
       "      <td>Positive emotion</td>\n",
       "      <td>[@sxtxstate]</td>\n",
       "      <td>[#SXSW]</td>\n",
       "      <td>great stuff on fri : marissa mayer (google), ...</td>\n",
       "      <td>Google</td>\n",
       "    </tr>\n",
       "    <tr>\n",
       "      <th>...</th>\n",
       "      <td>...</td>\n",
       "      <td>...</td>\n",
       "      <td>...</td>\n",
       "      <td>...</td>\n",
       "      <td>...</td>\n",
       "      <td>...</td>\n",
       "      <td>...</td>\n",
       "    </tr>\n",
       "    <tr>\n",
       "      <th>9088</th>\n",
       "      <td>ipad everywhere. #sxsw {link}</td>\n",
       "      <td>iPad</td>\n",
       "      <td>Positive emotion</td>\n",
       "      <td>[]</td>\n",
       "      <td>[#SXSW]</td>\n",
       "      <td>ipad everywhere.  {link}</td>\n",
       "      <td>iPad</td>\n",
       "    </tr>\n",
       "    <tr>\n",
       "      <th>9089</th>\n",
       "      <td>wave, buzz... rt @mention we interrupt your re...</td>\n",
       "      <td>NaN</td>\n",
       "      <td>No emotion toward brand or product</td>\n",
       "      <td>[@mention]</td>\n",
       "      <td>[#sxsw, #google, #circles]</td>\n",
       "      <td>wave, buzz... rt  we interrupt your regularly ...</td>\n",
       "      <td></td>\n",
       "    </tr>\n",
       "    <tr>\n",
       "      <th>9090</th>\n",
       "      <td>google's zeiger, a physician never reported po...</td>\n",
       "      <td>NaN</td>\n",
       "      <td>No emotion toward brand or product</td>\n",
       "      <td>[]</td>\n",
       "      <td>[#sxsw, #health2dev]</td>\n",
       "      <td>google's zeiger, a physician never reported po...</td>\n",
       "      <td>Google</td>\n",
       "    </tr>\n",
       "    <tr>\n",
       "      <th>9091</th>\n",
       "      <td>some verizon iphone customers complained their...</td>\n",
       "      <td>NaN</td>\n",
       "      <td>No emotion toward brand or product</td>\n",
       "      <td>[]</td>\n",
       "      <td>[#SXSW]</td>\n",
       "      <td>some verizon iphone customers complained their...</td>\n",
       "      <td>iPhone</td>\n",
       "    </tr>\n",
       "    <tr>\n",
       "      <th>9092</th>\n",
       "      <td>ï¡ïàü_êîò£áââ_£â_ûârt @...</td>\n",
       "      <td>NaN</td>\n",
       "      <td>No emotion toward brand or product</td>\n",
       "      <td>[@mention]</td>\n",
       "      <td>[#SXSW]</td>\n",
       "      <td>ï¡ïàü_êîò£áââ_£â_ûârt  ...</td>\n",
       "      <td>Google</td>\n",
       "    </tr>\n",
       "  </tbody>\n",
       "</table>\n",
       "<p>9092 rows × 7 columns</p>\n",
       "</div>"
      ],
      "text/plain": [
       "                                             tweet_text  \\\n",
       "0     .@wesley83 i have a 3g iphone. after 3 hrs twe...   \n",
       "1     @jessedee know about @fludapp ? awesome ipad/i...   \n",
       "2     @swonderlin can not wait for #ipad 2 also. the...   \n",
       "3     @sxsw i hope this year's festival isn't as cra...   \n",
       "4     @sxtxstate great stuff on fri #sxsw: marissa m...   \n",
       "...                                                 ...   \n",
       "9088                      ipad everywhere. #sxsw {link}   \n",
       "9089  wave, buzz... rt @mention we interrupt your re...   \n",
       "9090  google's zeiger, a physician never reported po...   \n",
       "9091  some verizon iphone customers complained their...   \n",
       "9092  ï¡ïàü_êîò£áââ_£â_ûârt @...   \n",
       "\n",
       "     emotion_in_tweet_is_directed_at  \\\n",
       "0                             iPhone   \n",
       "1                 iPad or iPhone App   \n",
       "2                               iPad   \n",
       "3                 iPad or iPhone App   \n",
       "4                             Google   \n",
       "...                              ...   \n",
       "9088                            iPad   \n",
       "9089                             NaN   \n",
       "9090                             NaN   \n",
       "9091                             NaN   \n",
       "9092                             NaN   \n",
       "\n",
       "     is_there_an_emotion_directed_at_a_brand_or_product  \\\n",
       "0                                      Negative emotion   \n",
       "1                                      Positive emotion   \n",
       "2                                      Positive emotion   \n",
       "3                                      Negative emotion   \n",
       "4                                      Positive emotion   \n",
       "...                                                 ...   \n",
       "9088                                   Positive emotion   \n",
       "9089                 No emotion toward brand or product   \n",
       "9090                 No emotion toward brand or product   \n",
       "9091                 No emotion toward brand or product   \n",
       "9092                 No emotion toward brand or product   \n",
       "\n",
       "                  Usernames                Tagged_Names  \\\n",
       "0               [@wesley83]       [#RISE_Austin, #SXSW]   \n",
       "1     [@jessedee, @fludapp]                     [#SXSW]   \n",
       "2             [@swonderlin]              [#iPad, #SXSW]   \n",
       "3                   [@sxsw]                     [#sxsw]   \n",
       "4              [@sxtxstate]                     [#SXSW]   \n",
       "...                     ...                         ...   \n",
       "9088                     []                     [#SXSW]   \n",
       "9089             [@mention]  [#sxsw, #google, #circles]   \n",
       "9090                     []        [#sxsw, #health2dev]   \n",
       "9091                     []                     [#SXSW]   \n",
       "9092             [@mention]                     [#SXSW]   \n",
       "\n",
       "                                       clean_tweet_text category_words  \n",
       "0      i have a 3g iphone. after 3 hrs tweeting at ,...         iPhone  \n",
       "1      know about  ? awesome ipad/iphone app that yo...    iPad iPhone  \n",
       "2      can not wait for  2 also. they should sale th...                 \n",
       "3      i hope this year's festival isn't as crashy a...         iPhone  \n",
       "4      great stuff on fri : marissa mayer (google), ...         Google  \n",
       "...                                                 ...            ...  \n",
       "9088                           ipad everywhere.  {link}           iPad  \n",
       "9089  wave, buzz... rt  we interrupt your regularly ...                 \n",
       "9090  google's zeiger, a physician never reported po...         Google  \n",
       "9091  some verizon iphone customers complained their...         iPhone  \n",
       "9092  ï¡ïàü_êîò£áââ_£â_ûârt  ...         Google  \n",
       "\n",
       "[9092 rows x 7 columns]"
      ]
     },
     "execution_count": 180,
     "metadata": {},
     "output_type": "execute_result"
    }
   ],
   "source": [
    "\n",
    "df"
   ]
  },
  {
   "cell_type": "code",
   "execution_count": 181,
   "metadata": {},
   "outputs": [
    {
     "data": {
      "text/plain": [
       "' check out 2011 south by southwest interactive iphone/ipad must-have apps, sites and tools by  {link} '"
      ]
     },
     "execution_count": 181,
     "metadata": {},
     "output_type": "execute_result"
    }
   ],
   "source": [
    "# Verify our cleaned tweet text\n",
    "sentence = df['clean_tweet_text'][2347]\n",
    "sentence"
   ]
  },
  {
   "cell_type": "markdown",
   "metadata": {},
   "source": [
    "#### Remove numerical values, and stop words"
   ]
  },
  {
   "cell_type": "code",
   "execution_count": 182,
   "metadata": {},
   "outputs": [
    {
     "data": {
      "text/plain": [
       "' check out  south by southwest interactive iphone/ipad must-have apps, sites and tools by  {link} '"
      ]
     },
     "execution_count": 182,
     "metadata": {},
     "output_type": "execute_result"
    }
   ],
   "source": [
    "# Function to remove numerical values using regex\n",
    "def remove_numbers(text):\n",
    "    return re.sub(r'\\d+','', text)\n",
    "# Check if the function works with our sentence\n",
    "clean_sentence = remove_numbers(sentence)\n",
    "clean_sentence"
   ]
  },
  {
   "cell_type": "code",
   "execution_count": 183,
   "metadata": {},
   "outputs": [
    {
     "data": {
      "text/plain": [
       "' check out 2011 south by southwest interactive iphone/ipad must-have apps, sites and tools by  {link} '"
      ]
     },
     "execution_count": 183,
     "metadata": {},
     "output_type": "execute_result"
    }
   ],
   "source": [
    "# Apply the function to the column\n",
    "df['clean_tweet_text'] = df['clean_tweet_text'].apply(remove_numbers)\n",
    "#confirm if it worked\n",
    "sentence "
   ]
  },
  {
   "cell_type": "markdown",
   "metadata": {},
   "source": [
    "#### Tokenizing"
   ]
  },
  {
   "cell_type": "code",
   "execution_count": 184,
   "metadata": {},
   "outputs": [
    {
     "data": {
      "text/plain": [
       "['check',\n",
       " 'out',\n",
       " '2011',\n",
       " 'south',\n",
       " 'by',\n",
       " 'southwest',\n",
       " 'interactive',\n",
       " 'iphone',\n",
       " 'ipad',\n",
       " 'must',\n",
       " 'have',\n",
       " 'apps',\n",
       " 'sites',\n",
       " 'and',\n",
       " 'tools',\n",
       " 'by',\n",
       " 'link']"
      ]
     },
     "execution_count": 184,
     "metadata": {},
     "output_type": "execute_result"
    }
   ],
   "source": [
    "# Import the regexptokenizer\n",
    "from nltk.tokenize import RegexpTokenizer\n",
    "\n",
    "basic_token_pattern = r\"(?u)\\b\\w\\w+\\b\"\n",
    "\n",
    "tokenizer = RegexpTokenizer(basic_token_pattern)\n",
    "tokenizer.tokenize(sentence)"
   ]
  },
  {
   "cell_type": "code",
   "execution_count": 185,
   "metadata": {},
   "outputs": [
    {
     "data": {
      "text/html": [
       "<div>\n",
       "<style scoped>\n",
       "    .dataframe tbody tr th:only-of-type {\n",
       "        vertical-align: middle;\n",
       "    }\n",
       "\n",
       "    .dataframe tbody tr th {\n",
       "        vertical-align: top;\n",
       "    }\n",
       "\n",
       "    .dataframe thead th {\n",
       "        text-align: right;\n",
       "    }\n",
       "</style>\n",
       "<table border=\"1\" class=\"dataframe\">\n",
       "  <thead>\n",
       "    <tr style=\"text-align: right;\">\n",
       "      <th></th>\n",
       "      <th>tweet_text</th>\n",
       "      <th>emotion_in_tweet_is_directed_at</th>\n",
       "      <th>is_there_an_emotion_directed_at_a_brand_or_product</th>\n",
       "      <th>Usernames</th>\n",
       "      <th>Tagged_Names</th>\n",
       "      <th>clean_tweet_text</th>\n",
       "      <th>category_words</th>\n",
       "      <th>text_tokenized</th>\n",
       "    </tr>\n",
       "  </thead>\n",
       "  <tbody>\n",
       "    <tr>\n",
       "      <th>0</th>\n",
       "      <td>.@wesley83 i have a 3g iphone. after 3 hrs twe...</td>\n",
       "      <td>iPhone</td>\n",
       "      <td>Negative emotion</td>\n",
       "      <td>[@wesley83]</td>\n",
       "      <td>[#RISE_Austin, #SXSW]</td>\n",
       "      <td>i have a g iphone. after  hrs tweeting at , i...</td>\n",
       "      <td>iPhone</td>\n",
       "      <td>[have, iphone, after, hrs, tweeting, at, it, w...</td>\n",
       "    </tr>\n",
       "    <tr>\n",
       "      <th>1</th>\n",
       "      <td>@jessedee know about @fludapp ? awesome ipad/i...</td>\n",
       "      <td>iPad or iPhone App</td>\n",
       "      <td>Positive emotion</td>\n",
       "      <td>[@jessedee, @fludapp]</td>\n",
       "      <td>[#SXSW]</td>\n",
       "      <td>know about  ? awesome ipad/iphone app that yo...</td>\n",
       "      <td>iPad iPhone</td>\n",
       "      <td>[know, about, awesome, ipad, iphone, app, that...</td>\n",
       "    </tr>\n",
       "    <tr>\n",
       "      <th>2</th>\n",
       "      <td>@swonderlin can not wait for #ipad 2 also. the...</td>\n",
       "      <td>iPad</td>\n",
       "      <td>Positive emotion</td>\n",
       "      <td>[@swonderlin]</td>\n",
       "      <td>[#iPad, #SXSW]</td>\n",
       "      <td>can not wait for   also. they should sale the...</td>\n",
       "      <td></td>\n",
       "      <td>[can, not, wait, for, also, they, should, sale...</td>\n",
       "    </tr>\n",
       "    <tr>\n",
       "      <th>3</th>\n",
       "      <td>@sxsw i hope this year's festival isn't as cra...</td>\n",
       "      <td>iPad or iPhone App</td>\n",
       "      <td>Negative emotion</td>\n",
       "      <td>[@sxsw]</td>\n",
       "      <td>[#sxsw]</td>\n",
       "      <td>i hope this year's festival isn't as crashy a...</td>\n",
       "      <td>iPhone</td>\n",
       "      <td>[hope, this, year, festival, isn, as, crashy, ...</td>\n",
       "    </tr>\n",
       "    <tr>\n",
       "      <th>4</th>\n",
       "      <td>@sxtxstate great stuff on fri #sxsw: marissa m...</td>\n",
       "      <td>Google</td>\n",
       "      <td>Positive emotion</td>\n",
       "      <td>[@sxtxstate]</td>\n",
       "      <td>[#SXSW]</td>\n",
       "      <td>great stuff on fri : marissa mayer (google), ...</td>\n",
       "      <td>Google</td>\n",
       "      <td>[great, stuff, on, fri, marissa, mayer, google...</td>\n",
       "    </tr>\n",
       "  </tbody>\n",
       "</table>\n",
       "</div>"
      ],
      "text/plain": [
       "                                          tweet_text  \\\n",
       "0  .@wesley83 i have a 3g iphone. after 3 hrs twe...   \n",
       "1  @jessedee know about @fludapp ? awesome ipad/i...   \n",
       "2  @swonderlin can not wait for #ipad 2 also. the...   \n",
       "3  @sxsw i hope this year's festival isn't as cra...   \n",
       "4  @sxtxstate great stuff on fri #sxsw: marissa m...   \n",
       "\n",
       "  emotion_in_tweet_is_directed_at  \\\n",
       "0                          iPhone   \n",
       "1              iPad or iPhone App   \n",
       "2                            iPad   \n",
       "3              iPad or iPhone App   \n",
       "4                          Google   \n",
       "\n",
       "  is_there_an_emotion_directed_at_a_brand_or_product              Usernames  \\\n",
       "0                                   Negative emotion            [@wesley83]   \n",
       "1                                   Positive emotion  [@jessedee, @fludapp]   \n",
       "2                                   Positive emotion          [@swonderlin]   \n",
       "3                                   Negative emotion                [@sxsw]   \n",
       "4                                   Positive emotion           [@sxtxstate]   \n",
       "\n",
       "            Tagged_Names                                   clean_tweet_text  \\\n",
       "0  [#RISE_Austin, #SXSW]   i have a g iphone. after  hrs tweeting at , i...   \n",
       "1                [#SXSW]   know about  ? awesome ipad/iphone app that yo...   \n",
       "2         [#iPad, #SXSW]   can not wait for   also. they should sale the...   \n",
       "3                [#sxsw]   i hope this year's festival isn't as crashy a...   \n",
       "4                [#SXSW]   great stuff on fri : marissa mayer (google), ...   \n",
       "\n",
       "  category_words                                     text_tokenized  \n",
       "0         iPhone  [have, iphone, after, hrs, tweeting, at, it, w...  \n",
       "1    iPad iPhone  [know, about, awesome, ipad, iphone, app, that...  \n",
       "2                 [can, not, wait, for, also, they, should, sale...  \n",
       "3         iPhone  [hope, this, year, festival, isn, as, crashy, ...  \n",
       "4         Google  [great, stuff, on, fri, marissa, mayer, google...  "
      ]
     },
     "execution_count": 185,
     "metadata": {},
     "output_type": "execute_result"
    }
   ],
   "source": [
    "# Create new column with tokenized data\n",
    "df[\"text_tokenized\"] = df[\"clean_tweet_text\"].apply(tokenizer.tokenize)\n",
    "# Display full text\n",
    "#df.style.set_properties(**{'text-align': 'left'})\n",
    "df.head()"
   ]
  },
  {
   "cell_type": "code",
   "execution_count": 186,
   "metadata": {},
   "outputs": [],
   "source": [
    "# Function to Load the data\n",
    "def Load_dataset(data):\n",
    "    df = pd.read_csv(data, encoding='latin1')\n",
    "    return df\n",
    "\n",
    "#show the shape of the dataset\n",
    "def data_shape(df):\n",
    "    print(df.shape)\n",
    "    \n",
    "#Check for the dataset information   \n",
    "def check_Info(df):\n",
    "    print(df.info())\n",
    "\n",
    "#Show the columns\n",
    "def Columns(df):\n",
    "    print(df.columns)\n",
    "    \n",
    "# Check the columns data_types\n",
    "def data_types(df):\n",
    "    print(df.dtypes)\n",
    "    \n",
    "# Check for missing values\n",
    "def check_for_missing_values(df):\n",
    "    print (df.isnull().sum())\n",
    "    \n",
    "# Check for the duplicates\n",
    "def Duplicates(df):\n",
    "    print(df.duplicated().sum())\n",
    "    \n",
    "# The description of the data(descriptives)\n",
    "def Describe_data(df):\n",
    "    return(df.describe())\n"
   ]
  },
  {
   "cell_type": "code",
   "execution_count": 187,
   "metadata": {},
   "outputs": [
    {
     "name": "stdout",
     "output_type": "stream",
     "text": [
      "(9092, 8)\n"
     ]
    }
   ],
   "source": [
    "data_shape(df)"
   ]
  },
  {
   "cell_type": "code",
   "execution_count": 188,
   "metadata": {},
   "outputs": [
    {
     "name": "stdout",
     "output_type": "stream",
     "text": [
      "<class 'pandas.core.frame.DataFrame'>\n",
      "Int64Index: 9092 entries, 0 to 9092\n",
      "Data columns (total 8 columns):\n",
      " #   Column                                              Non-Null Count  Dtype \n",
      "---  ------                                              --------------  ----- \n",
      " 0   tweet_text                                          9092 non-null   object\n",
      " 1   emotion_in_tweet_is_directed_at                     3291 non-null   object\n",
      " 2   is_there_an_emotion_directed_at_a_brand_or_product  9092 non-null   object\n",
      " 3   Usernames                                           9092 non-null   object\n",
      " 4   Tagged_Names                                        9092 non-null   object\n",
      " 5   clean_tweet_text                                    9092 non-null   object\n",
      " 6   category_words                                      9092 non-null   object\n",
      " 7   text_tokenized                                      9092 non-null   object\n",
      "dtypes: object(8)\n",
      "memory usage: 959.3+ KB\n",
      "None\n"
     ]
    }
   ],
   "source": [
    "check_Info(df)"
   ]
  },
  {
   "cell_type": "code",
   "execution_count": 189,
   "metadata": {},
   "outputs": [
    {
     "name": "stdout",
     "output_type": "stream",
     "text": [
      "Index(['tweet_text', 'emotion_in_tweet_is_directed_at',\n",
      "       'is_there_an_emotion_directed_at_a_brand_or_product', 'Usernames',\n",
      "       'Tagged_Names', 'clean_tweet_text', 'category_words', 'text_tokenized'],\n",
      "      dtype='object')\n"
     ]
    }
   ],
   "source": [
    "Columns(df)"
   ]
  },
  {
   "cell_type": "code",
   "execution_count": 195,
   "metadata": {},
   "outputs": [
    {
     "name": "stdout",
     "output_type": "stream",
     "text": [
      "tweet_text                                               0\n",
      "emotion_in_tweet_is_directed_at                       5801\n",
      "is_there_an_emotion_directed_at_a_brand_or_product       0\n",
      "Usernames                                                0\n",
      "Tagged_Names                                             0\n",
      "clean_tweet_text                                         0\n",
      "category_words                                           0\n",
      "text_tokenized                                           0\n",
      "tweet_tokenized                                          0\n",
      "dtype: int64\n"
     ]
    }
   ],
   "source": [
    "check_for_missing_values(df)"
   ]
  },
  {
   "cell_type": "code",
   "execution_count": 191,
   "metadata": {},
   "outputs": [
    {
     "data": {
      "text/html": [
       "<div>\n",
       "<style scoped>\n",
       "    .dataframe tbody tr th:only-of-type {\n",
       "        vertical-align: middle;\n",
       "    }\n",
       "\n",
       "    .dataframe tbody tr th {\n",
       "        vertical-align: top;\n",
       "    }\n",
       "\n",
       "    .dataframe thead th {\n",
       "        text-align: right;\n",
       "    }\n",
       "</style>\n",
       "<table border=\"1\" class=\"dataframe\">\n",
       "  <thead>\n",
       "    <tr style=\"text-align: right;\">\n",
       "      <th></th>\n",
       "      <th>tweet_text</th>\n",
       "      <th>emotion_in_tweet_is_directed_at</th>\n",
       "      <th>is_there_an_emotion_directed_at_a_brand_or_product</th>\n",
       "      <th>Usernames</th>\n",
       "      <th>Tagged_Names</th>\n",
       "      <th>clean_tweet_text</th>\n",
       "      <th>category_words</th>\n",
       "      <th>text_tokenized</th>\n",
       "    </tr>\n",
       "  </thead>\n",
       "  <tbody>\n",
       "    <tr>\n",
       "      <th>count</th>\n",
       "      <td>9092</td>\n",
       "      <td>3291</td>\n",
       "      <td>9092</td>\n",
       "      <td>9092</td>\n",
       "      <td>9092</td>\n",
       "      <td>9092</td>\n",
       "      <td>9092</td>\n",
       "      <td>9092</td>\n",
       "    </tr>\n",
       "    <tr>\n",
       "      <th>unique</th>\n",
       "      <td>9047</td>\n",
       "      <td>9</td>\n",
       "      <td>4</td>\n",
       "      <td>56</td>\n",
       "      <td>2059</td>\n",
       "      <td>8990</td>\n",
       "      <td>22</td>\n",
       "      <td>8657</td>\n",
       "    </tr>\n",
       "    <tr>\n",
       "      <th>top</th>\n",
       "      <td>rt @mention marissa mayer: google will connect...</td>\n",
       "      <td>iPad</td>\n",
       "      <td>No emotion toward brand or product</td>\n",
       "      <td>[]</td>\n",
       "      <td>[#sxsw]</td>\n",
       "      <td>rt  marissa mayer: google will connect the dig...</td>\n",
       "      <td>Google</td>\n",
       "      <td>[rt, google, to, launch, major, new, social, n...</td>\n",
       "    </tr>\n",
       "    <tr>\n",
       "      <th>freq</th>\n",
       "      <td>9</td>\n",
       "      <td>946</td>\n",
       "      <td>5388</td>\n",
       "      <td>4173</td>\n",
       "      <td>2488</td>\n",
       "      <td>9</td>\n",
       "      <td>2169</td>\n",
       "      <td>25</td>\n",
       "    </tr>\n",
       "  </tbody>\n",
       "</table>\n",
       "</div>"
      ],
      "text/plain": [
       "                                               tweet_text  \\\n",
       "count                                                9092   \n",
       "unique                                               9047   \n",
       "top     rt @mention marissa mayer: google will connect...   \n",
       "freq                                                    9   \n",
       "\n",
       "       emotion_in_tweet_is_directed_at  \\\n",
       "count                             3291   \n",
       "unique                               9   \n",
       "top                               iPad   \n",
       "freq                               946   \n",
       "\n",
       "       is_there_an_emotion_directed_at_a_brand_or_product Usernames  \\\n",
       "count                                                9092      9092   \n",
       "unique                                                  4        56   \n",
       "top                    No emotion toward brand or product        []   \n",
       "freq                                                 5388      4173   \n",
       "\n",
       "       Tagged_Names                                   clean_tweet_text  \\\n",
       "count          9092                                               9092   \n",
       "unique         2059                                               8990   \n",
       "top         [#sxsw]  rt  marissa mayer: google will connect the dig...   \n",
       "freq           2488                                                  9   \n",
       "\n",
       "       category_words                                     text_tokenized  \n",
       "count            9092                                               9092  \n",
       "unique             22                                               8657  \n",
       "top            Google  [rt, google, to, launch, major, new, social, n...  \n",
       "freq             2169                                                 25  "
      ]
     },
     "execution_count": 191,
     "metadata": {},
     "output_type": "execute_result"
    }
   ],
   "source": [
    "Describe_data(df)"
   ]
  },
  {
   "cell_type": "code",
   "execution_count": null,
   "metadata": {},
   "outputs": [],
   "source": []
  },
  {
   "cell_type": "code",
   "execution_count": null,
   "metadata": {},
   "outputs": [],
   "source": []
  },
  {
   "cell_type": "code",
   "execution_count": 192,
   "metadata": {},
   "outputs": [
    {
     "data": {
      "text/plain": [
       "['check',\n",
       " 'out',\n",
       " '2011',\n",
       " 'south',\n",
       " 'by',\n",
       " 'southwest',\n",
       " 'interactive',\n",
       " 'iphone/ipad',\n",
       " 'must-have',\n",
       " 'apps',\n",
       " ',',\n",
       " 'sites',\n",
       " 'and',\n",
       " 'tools',\n",
       " 'by',\n",
       " '{',\n",
       " 'link',\n",
       " '}']"
      ]
     },
     "execution_count": 192,
     "metadata": {},
     "output_type": "execute_result"
    }
   ],
   "source": [
    "token = word_tokenize(sentence)\n",
    "token"
   ]
  },
  {
   "cell_type": "code",
   "execution_count": 193,
   "metadata": {},
   "outputs": [],
   "source": [
    "df['tweet_tokenized'] =[word_tokenize(sentence) for sentence in df['tweet_text']]\n"
   ]
  },
  {
   "cell_type": "code",
   "execution_count": 194,
   "metadata": {},
   "outputs": [
    {
     "data": {
      "text/plain": [
       "'rt  google tests checkin offers at sxsw link'"
      ]
     },
     "execution_count": 194,
     "metadata": {},
     "output_type": "execute_result"
    }
   ],
   "source": [
    "\n",
    "# Clean text (remove unwanted characters and convert to lowercase)\n",
    "def clean_text(text):\n",
    "    if not isinstance(text, str):\n",
    "        return ''\n",
    "    text = re.sub(r'@[A-Za-z0-9_]+', '', text)  # Remove mentions (@user)\n",
    "    text = re.sub(r'http\\S+', '', text)  # Remove URLs\n",
    "    text = re.sub(r'[^a-zA-Z\\s]', '', text)  # Remove non-alphabetic characters\n",
    "    text = text.lower()  # Convert text to lowercase\n",
    "    return text\n",
    "\n",
    "#df['cleaned_tweet'] = df['tweet_text'].apply(clean_text)\n",
    "cleaned_sentense = clean_text(sentense)\n",
    "cleaned_sentense"
   ]
  },
  {
   "cell_type": "code",
   "execution_count": 15,
   "metadata": {},
   "outputs": [
    {
     "ename": "SyntaxError",
     "evalue": "invalid syntax (<ipython-input-15-624799ddebac>, line 1)",
     "output_type": "error",
     "traceback": [
      "\u001b[1;36m  File \u001b[1;32m\"<ipython-input-15-624799ddebac>\"\u001b[1;36m, line \u001b[1;32m1\u001b[0m\n\u001b[1;33m    tokens = nltk.word_tokenize(df[])\u001b[0m\n\u001b[1;37m                                   ^\u001b[0m\n\u001b[1;31mSyntaxError\u001b[0m\u001b[1;31m:\u001b[0m invalid syntax\n"
     ]
    }
   ],
   "source": [
    "tokens = nltk.word_tokenize(df[])"
   ]
  },
  {
   "cell_type": "code",
   "execution_count": null,
   "metadata": {},
   "outputs": [],
   "source": [
    "df['User_name'] = []"
   ]
  },
  {
   "cell_type": "code",
   "execution_count": null,
   "metadata": {},
   "outputs": [],
   "source": [
    "df['emotion_in_tweet_is_directed_at'].isna().value_counts(normalize = True)"
   ]
  },
  {
   "cell_type": "code",
   "execution_count": null,
   "metadata": {},
   "outputs": [],
   "source": [
    "# Display dataset information\n",
    "print(\"\\nDataset Information:\")\n",
    "df.info()"
   ]
  },
  {
   "cell_type": "code",
   "execution_count": null,
   "metadata": {
    "scrolled": true
   },
   "outputs": [],
   "source": [
    "# Display value counts for the target variable\n",
    "print(\"\\nClass Distribution:\")\n",
    "print(df['is_there_an_emotion_directed_at_a_brand_or_product'].value_counts())"
   ]
  },
  {
   "cell_type": "code",
   "execution_count": null,
   "metadata": {},
   "outputs": [],
   "source": [
    "df[]"
   ]
  }
 ],
 "metadata": {
  "kernelspec": {
   "display_name": "Python 3",
   "language": "python",
   "name": "python3"
  },
  "language_info": {
   "codemirror_mode": {
    "name": "ipython",
    "version": 3
   },
   "file_extension": ".py",
   "mimetype": "text/x-python",
   "name": "python",
   "nbconvert_exporter": "python",
   "pygments_lexer": "ipython3",
   "version": "3.8.5"
  }
 },
 "nbformat": 4,
 "nbformat_minor": 4
}
